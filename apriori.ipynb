{
 "cells": [
  {
   "cell_type": "markdown",
   "metadata": {},
   "source": [
    "# Apyori Algorithm"
   ]
  },
  {
   "cell_type": "code",
   "execution_count": 1,
   "metadata": {},
   "outputs": [],
   "source": [
    "import numpy as np\n",
    "import pandas as pd\n",
    "from apyori import apriori"
   ]
  },
  {
   "cell_type": "code",
   "execution_count": 23,
   "metadata": {},
   "outputs": [
    {
     "data": {
      "text/plain": [
       "4"
      ]
     },
     "execution_count": 23,
     "metadata": {},
     "output_type": "execute_result"
    }
   ],
   "source": [
    "#read file\n",
    "df = pd.read_csv('C:\\\\Users\\\\500062936\\\\Documents\\\\apriori_data.csv', header = None)\n",
    "df.shape[1]"
   ]
  },
  {
   "cell_type": "code",
   "execution_count": 24,
   "metadata": {},
   "outputs": [
    {
     "data": {
      "text/html": [
       "<div>\n",
       "<style scoped>\n",
       "    .dataframe tbody tr th:only-of-type {\n",
       "        vertical-align: middle;\n",
       "    }\n",
       "\n",
       "    .dataframe tbody tr th {\n",
       "        vertical-align: top;\n",
       "    }\n",
       "\n",
       "    .dataframe thead th {\n",
       "        text-align: right;\n",
       "    }\n",
       "</style>\n",
       "<table border=\"1\" class=\"dataframe\">\n",
       "  <thead>\n",
       "    <tr style=\"text-align: right;\">\n",
       "      <th></th>\n",
       "      <th>0</th>\n",
       "      <th>1</th>\n",
       "      <th>2</th>\n",
       "      <th>3</th>\n",
       "    </tr>\n",
       "  </thead>\n",
       "  <tbody>\n",
       "    <tr>\n",
       "      <th>0</th>\n",
       "      <td>bread</td>\n",
       "      <td>egg</td>\n",
       "      <td>papaya</td>\n",
       "      <td>oat packet</td>\n",
       "    </tr>\n",
       "    <tr>\n",
       "      <th>1</th>\n",
       "      <td>papaya</td>\n",
       "      <td>bread</td>\n",
       "      <td>oat packet</td>\n",
       "      <td>milk</td>\n",
       "    </tr>\n",
       "    <tr>\n",
       "      <th>2</th>\n",
       "      <td>egg</td>\n",
       "      <td>bread</td>\n",
       "      <td>butter</td>\n",
       "      <td>NaN</td>\n",
       "    </tr>\n",
       "    <tr>\n",
       "      <th>3</th>\n",
       "      <td>oat packet</td>\n",
       "      <td>egg</td>\n",
       "      <td>milk</td>\n",
       "      <td>NaN</td>\n",
       "    </tr>\n",
       "    <tr>\n",
       "      <th>4</th>\n",
       "      <td>milk</td>\n",
       "      <td>bread</td>\n",
       "      <td>butter</td>\n",
       "      <td>NaN</td>\n",
       "    </tr>\n",
       "  </tbody>\n",
       "</table>\n",
       "</div>"
      ],
      "text/plain": [
       "            0      1           2           3\n",
       "0       bread    egg      papaya  oat packet\n",
       "1      papaya  bread  oat packet        milk\n",
       "2         egg  bread      butter         NaN\n",
       "3  oat packet    egg        milk         NaN\n",
       "4        milk  bread      butter         NaN"
      ]
     },
     "execution_count": 24,
     "metadata": {},
     "output_type": "execute_result"
    }
   ],
   "source": [
    "df.head()"
   ]
  },
  {
   "cell_type": "code",
   "execution_count": 25,
   "metadata": {},
   "outputs": [
    {
     "data": {
      "text/plain": [
       "array([['bread', 'egg', 'papaya', 'oat packet'],\n",
       "       ['papaya', 'bread', 'oat packet', 'milk'],\n",
       "       ['egg', 'bread', 'butter', nan],\n",
       "       ['oat packet', 'egg', 'milk', nan],\n",
       "       ['milk', 'bread', 'butter', nan],\n",
       "       ['papaya', 'milk', nan, nan],\n",
       "       ['Butter', 'papaya', 'bread', nan],\n",
       "       ['egg', 'bread', nan, nan],\n",
       "       ['papaya', 'oat packet', nan, nan],\n",
       "       ['milk', 'papaya', 'bread', nan],\n",
       "       ['egg', 'milk', nan, nan]], dtype=object)"
      ]
     },
     "execution_count": 25,
     "metadata": {},
     "output_type": "execute_result"
    }
   ],
   "source": [
    "df.values"
   ]
  },
  {
   "cell_type": "code",
   "execution_count": 26,
   "metadata": {},
   "outputs": [
    {
     "data": {
      "text/plain": [
       "4"
      ]
     },
     "execution_count": 26,
     "metadata": {},
     "output_type": "execute_result"
    }
   ],
   "source": [
    "data = []\n",
    "for i in range (0, df.shape[1]):\n",
    "    data.append(str(df.values[i,j]) for j in range(0, df.shape[1]-1))\n",
    "len(data)"
   ]
  },
  {
   "cell_type": "markdown",
   "metadata": {},
   "source": [
    "# build model"
   ]
  },
  {
   "cell_type": "code",
   "execution_count": 27,
   "metadata": {},
   "outputs": [],
   "source": [
    "model = apriori(data, min_support = 0.50,min_confidenc = 0.7, lift = 1.2, min_lenght = 2)\n",
    "res = list(model)"
   ]
  },
  {
   "cell_type": "code",
   "execution_count": 28,
   "metadata": {},
   "outputs": [
    {
     "data": {
      "text/plain": [
       "7"
      ]
     },
     "execution_count": 28,
     "metadata": {},
     "output_type": "execute_result"
    }
   ],
   "source": [
    "len(res)"
   ]
  },
  {
   "cell_type": "code",
   "execution_count": 29,
   "metadata": {},
   "outputs": [
    {
     "data": {
      "text/plain": [
       "[RelationRecord(items=frozenset({'egg'}), support=1.0, ordered_statistics=[OrderedStatistic(items_base=frozenset(), items_add=frozenset({'egg'}), confidence=1.0, lift=1.0)]),\n",
       " RelationRecord(items=frozenset({'milk'}), support=1.0, ordered_statistics=[OrderedStatistic(items_base=frozenset(), items_add=frozenset({'milk'}), confidence=1.0, lift=1.0)]),\n",
       " RelationRecord(items=frozenset({'oat packet'}), support=1.0, ordered_statistics=[OrderedStatistic(items_base=frozenset(), items_add=frozenset({'oat packet'}), confidence=1.0, lift=1.0)]),\n",
       " RelationRecord(items=frozenset({'egg', 'milk'}), support=1.0, ordered_statistics=[OrderedStatistic(items_base=frozenset({'egg'}), items_add=frozenset({'milk'}), confidence=1.0, lift=1.0), OrderedStatistic(items_base=frozenset({'milk'}), items_add=frozenset({'egg'}), confidence=1.0, lift=1.0)]),\n",
       " RelationRecord(items=frozenset({'egg', 'oat packet'}), support=1.0, ordered_statistics=[OrderedStatistic(items_base=frozenset({'egg'}), items_add=frozenset({'oat packet'}), confidence=1.0, lift=1.0), OrderedStatistic(items_base=frozenset({'oat packet'}), items_add=frozenset({'egg'}), confidence=1.0, lift=1.0)]),\n",
       " RelationRecord(items=frozenset({'oat packet', 'milk'}), support=1.0, ordered_statistics=[OrderedStatistic(items_base=frozenset({'milk'}), items_add=frozenset({'oat packet'}), confidence=1.0, lift=1.0), OrderedStatistic(items_base=frozenset({'oat packet'}), items_add=frozenset({'milk'}), confidence=1.0, lift=1.0)]),\n",
       " RelationRecord(items=frozenset({'oat packet', 'egg', 'milk'}), support=1.0, ordered_statistics=[OrderedStatistic(items_base=frozenset({'egg', 'milk'}), items_add=frozenset({'oat packet'}), confidence=1.0, lift=1.0), OrderedStatistic(items_base=frozenset({'egg', 'oat packet'}), items_add=frozenset({'milk'}), confidence=1.0, lift=1.0), OrderedStatistic(items_base=frozenset({'oat packet', 'milk'}), items_add=frozenset({'egg'}), confidence=1.0, lift=1.0)])]"
      ]
     },
     "execution_count": 29,
     "metadata": {},
     "output_type": "execute_result"
    }
   ],
   "source": [
    "res"
   ]
  },
  {
   "cell_type": "code",
   "execution_count": null,
   "metadata": {},
   "outputs": [],
   "source": []
  }
 ],
 "metadata": {
  "kernelspec": {
   "display_name": "Python 3",
   "language": "python",
   "name": "python3"
  },
  "language_info": {
   "codemirror_mode": {
    "name": "ipython",
    "version": 3
   },
   "file_extension": ".py",
   "mimetype": "text/x-python",
   "name": "python",
   "nbconvert_exporter": "python",
   "pygments_lexer": "ipython3",
   "version": "3.7.3"
  }
 },
 "nbformat": 4,
 "nbformat_minor": 2
}
